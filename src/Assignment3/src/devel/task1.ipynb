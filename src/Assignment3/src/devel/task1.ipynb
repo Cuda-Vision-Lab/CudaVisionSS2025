{
 "cells": [
  {
   "cell_type": "markdown",
   "metadata": {},
   "source": [
    "#### **Task 1**\n",
    " - Implement a LSTM (LSTM() and/or LSTMCell()) from scratch\n",
    " - Implement a Convolutional LSTM (ConvLSTM() and/or ConvLSTMCell()) from scratch"
   ]
  },
  {
   "cell_type": "code",
   "execution_count": 1,
   "metadata": {},
   "outputs": [],
   "source": [
    "import torch\n",
    "import os\n",
    "from tqdm import tqdm\n",
    "import numpy as np\n",
    "import matplotlib.pyplot as plt\n",
    "\n",
    "import torch\n",
    "import torch.nn as nn\n",
    "import torch.nn.functional as F\n",
    "import torchvision\n",
    "from torchvision import datasets, models, transforms\n"
   ]
  },
  {
   "cell_type": "code",
   "execution_count": null,
   "metadata": {},
   "outputs": [],
   "source": [
    "class ConvLSTMCell(nn.Module):\n",
    "\n",
    "    def __init__(self, input_size, hidden_size,kernel_size=3,padding=1, bias=True):\n",
    "        \"\"\"\n",
    "        Initialize ConvLSTM cell.\n",
    "\n",
    "        Parameters\n",
    "        ----------\n",
    "        input_size: int\n",
    "            Number of channels of input tensor.\n",
    "        hidden_size: int\n",
    "            Number of channels of hidden state.\n",
    "        kernel_size: (int, int)\n",
    "            Size of the convolutional kernel.\n",
    "        bias: bool\n",
    "            Whether or not to add the bias.\n",
    "        \"\"\"\n",
    "\n",
    "        super(ConvLSTMCell, self).__init__()\n",
    "        \n",
    "        self.input_size = input_size\n",
    "        self.hidden_size = hidden_size\n",
    "        \n",
    "        # Linear layer to compute all gates at once\n",
    "        # Note: 4 * hidden_size for i, f, o, g (input, forget, output, candidate)\n",
    "        \n",
    "        self.f_t = nn.Linear(in_features=input_size + hidden_size,\n",
    "        out_features=hidden_size  # Matches hidden state dim\n",
    "        )\n",
    "\n",
    "        self.i_t =nn.Linear(in_features=input_size + hidden_size,\n",
    "        out_features=hidden_size  # Matches hidden state dim\n",
    "        )\n",
    "\n",
    "        self.c_hat_t =nn.Linear(in_features=input_size + hidden_size,\n",
    "        out_features=hidden_size  # Matches hidden state dim\n",
    "        )\n",
    "        \n",
    "        self.o_t = nn.Linear(in_features=input_size + hidden_size,\n",
    "        out_features=hidden_size  # Matches hidden state dim\n",
    "        )\n",
    "\n",
    "    def forward(self, input_tensor, cur_state):\n",
    "        h_cur, c_cur = cur_state\n",
    "\n",
    "        combined = torch.cat([input_tensor, h_cur], dim=1)  # concatenate along channel axis\n",
    "\n",
    "        \n",
    "        # Split into input, forget, output, and candidate gates\n",
    "        \n",
    "        f_t=torch.sigmoid(self.f_t(combined))\n",
    "        i_t=torch.sigmoid(self.i_t(combined))\n",
    "        c_hat_t=torch.tanh(self.c_hat_t(combined))\n",
    "        o_t=torch.sigmoid(self.o_t(combined))\n",
    "        \n",
    "        c_t=f_t*c_cur+i_t*c_hat_t\n",
    "        h_t=o_t*torch.tanh(c_t)\n",
    "        \n",
    "        return h_t, c_t\n",
    "\n",
    "    def init_hidden(self, batch_size, image_size):\n",
    "        height, width = image_size\n",
    "        return (torch.zeros(batch_size, self.hidden_size, height, width, device=self.conv.weight.device),\n",
    "                torch.zeros(batch_size, self.hidden_size, height, width, device=self.conv.weight.device))"
   ]
  },
  {
   "cell_type": "code",
   "execution_count": null,
   "metadata": {},
   "outputs": [
    {
     "name": "stderr",
     "output_type": "stream",
     "text": [
      "100%|██████████| 9.91M/9.91M [00:04<00:00, 2.21MB/s]\n",
      "100%|██████████| 28.9k/28.9k [00:00<00:00, 265kB/s]\n",
      "100%|██████████| 1.65M/1.65M [00:05<00:00, 312kB/s] \n",
      "100%|██████████| 4.54k/4.54k [00:00<00:00, 15.4MB/s]\n"
     ]
    },
    {
     "name": "stdout",
     "output_type": "stream",
     "text": [
      "torch.Size([4, 1, 32, 32])\n",
      "cuda Sequential(\n",
      "  (0): Conv2d(1, 64, kernel_size=(3, 3), stride=(1, 1), padding=(1, 1))\n",
      "  (1): ReLU()\n",
      "  (2): MaxPool2d(kernel_size=2, stride=2, padding=0, dilation=1, ceil_mode=False)\n",
      "  (3): Conv2d(64, 128, kernel_size=(3, 3), stride=(1, 1), padding=(1, 1))\n",
      "  (4): ReLU()\n",
      "  (5): MaxPool2d(kernel_size=2, stride=2, padding=0, dilation=1, ceil_mode=False)\n",
      "  (6): Conv2d(128, 128, kernel_size=(3, 3), stride=(1, 1), padding=(1, 1))\n",
      "  (7): AdaptiveAvgPool2d(output_size=(1, 1))\n",
      ")\n"
     ]
    },
    {
     "name": "stderr",
     "output_type": "stream",
     "text": [
      "Epoch 1 Iter 235: loss 1.68633. : 100%|██████████| 235/235 [00:23<00:00, 10.18it/s]\n"
     ]
    },
    {
     "name": "stdout",
     "output_type": "stream",
     "text": [
      "Epoch 1/15\n",
      "    Train loss: 1.3631\n",
      "    Valid loss: 1.38728\n",
      "    Accuracy: 24.97%\n",
      "\n",
      "\n"
     ]
    },
    {
     "name": "stderr",
     "output_type": "stream",
     "text": [
      "Epoch 2 Iter 235: loss 3.06972. : 100%|██████████| 235/235 [00:24<00:00,  9.66it/s]\n"
     ]
    },
    {
     "name": "stdout",
     "output_type": "stream",
     "text": [
      "Epoch 2/15\n",
      "    Train loss: 0.76905\n",
      "    Valid loss: 1.15792\n",
      "    Accuracy: 42.22%\n",
      "\n",
      "\n"
     ]
    },
    {
     "name": "stderr",
     "output_type": "stream",
     "text": [
      "Epoch 3 Iter 235: loss 2.62218. : 100%|██████████| 235/235 [00:22<00:00, 10.37it/s]\n"
     ]
    },
    {
     "name": "stdout",
     "output_type": "stream",
     "text": [
      "Epoch 3/15\n",
      "    Train loss: 0.53319\n",
      "    Valid loss: 0.64338\n",
      "    Accuracy: 74.67%\n",
      "\n",
      "\n"
     ]
    },
    {
     "name": "stderr",
     "output_type": "stream",
     "text": [
      "Epoch 4 Iter 235: loss 2.83610. : 100%|██████████| 235/235 [00:22<00:00, 10.38it/s]\n"
     ]
    },
    {
     "name": "stdout",
     "output_type": "stream",
     "text": [
      "Epoch 4/15\n",
      "    Train loss: 0.47689\n",
      "    Valid loss: 0.55047\n",
      "    Accuracy: 78.57%\n",
      "\n",
      "\n"
     ]
    },
    {
     "name": "stderr",
     "output_type": "stream",
     "text": [
      "Epoch 5 Iter 235: loss 3.13432. : 100%|██████████| 235/235 [00:22<00:00, 10.38it/s]\n"
     ]
    },
    {
     "name": "stdout",
     "output_type": "stream",
     "text": [
      "Epoch 5/15\n",
      "    Train loss: 0.45128\n",
      "    Valid loss: 0.48835\n",
      "    Accuracy: 80.78999999999999%\n",
      "\n",
      "\n"
     ]
    },
    {
     "name": "stderr",
     "output_type": "stream",
     "text": [
      "Epoch 6 Iter 235: loss 1.42653. : 100%|██████████| 235/235 [00:22<00:00, 10.44it/s]\n"
     ]
    },
    {
     "name": "stdout",
     "output_type": "stream",
     "text": [
      "Epoch 6/15\n",
      "    Train loss: 0.40412\n",
      "    Valid loss: 0.47822\n",
      "    Accuracy: 81.71000000000001%\n",
      "\n",
      "\n"
     ]
    },
    {
     "name": "stderr",
     "output_type": "stream",
     "text": [
      "Epoch 7 Iter 235: loss 1.49611. : 100%|██████████| 235/235 [00:22<00:00, 10.35it/s]\n"
     ]
    },
    {
     "name": "stdout",
     "output_type": "stream",
     "text": [
      "Epoch 7/15\n",
      "    Train loss: 0.38831\n",
      "    Valid loss: 0.41483\n",
      "    Accuracy: 84.1%\n",
      "\n",
      "\n"
     ]
    },
    {
     "name": "stderr",
     "output_type": "stream",
     "text": [
      "Epoch 8 Iter 235: loss 1.31360. : 100%|██████████| 235/235 [00:22<00:00, 10.48it/s]\n"
     ]
    },
    {
     "name": "stdout",
     "output_type": "stream",
     "text": [
      "Epoch 8/15\n",
      "    Train loss: 0.37833\n",
      "    Valid loss: 0.40101\n",
      "    Accuracy: 84.0%\n",
      "\n",
      "\n"
     ]
    },
    {
     "name": "stderr",
     "output_type": "stream",
     "text": [
      "Epoch 9 Iter 235: loss 1.33798. : 100%|██████████| 235/235 [00:22<00:00, 10.51it/s]\n"
     ]
    },
    {
     "name": "stdout",
     "output_type": "stream",
     "text": [
      "Epoch 9/15\n",
      "    Train loss: 0.37065\n",
      "    Valid loss: 0.39373\n",
      "    Accuracy: 83.78999999999999%\n",
      "\n",
      "\n"
     ]
    },
    {
     "name": "stderr",
     "output_type": "stream",
     "text": [
      "Epoch 10 Iter 235: loss 1.34746. : 100%|██████████| 235/235 [00:22<00:00, 10.37it/s]\n"
     ]
    },
    {
     "name": "stdout",
     "output_type": "stream",
     "text": [
      "Epoch 10/15\n",
      "    Train loss: 0.35785\n",
      "    Valid loss: 0.37715\n",
      "    Accuracy: 85.16%\n",
      "\n",
      "\n"
     ]
    },
    {
     "name": "stderr",
     "output_type": "stream",
     "text": [
      "Epoch 11 Iter 235: loss 1.32236. : 100%|██████████| 235/235 [00:22<00:00, 10.41it/s]\n"
     ]
    },
    {
     "name": "stdout",
     "output_type": "stream",
     "text": [
      "Epoch 11/15\n",
      "    Train loss: 0.34813\n",
      "    Valid loss: 0.37916\n",
      "    Accuracy: 84.38%\n",
      "\n",
      "\n"
     ]
    },
    {
     "name": "stderr",
     "output_type": "stream",
     "text": [
      "Epoch 12 Iter 235: loss 1.35396. : 100%|██████████| 235/235 [00:22<00:00, 10.42it/s]\n"
     ]
    },
    {
     "name": "stdout",
     "output_type": "stream",
     "text": [
      "Epoch 12/15\n",
      "    Train loss: 0.3457\n",
      "    Valid loss: 0.37452\n",
      "    Accuracy: 84.58%\n",
      "\n",
      "\n"
     ]
    },
    {
     "name": "stderr",
     "output_type": "stream",
     "text": [
      "Epoch 13 Iter 235: loss 1.32754. : 100%|██████████| 235/235 [00:22<00:00, 10.50it/s]\n"
     ]
    },
    {
     "name": "stdout",
     "output_type": "stream",
     "text": [
      "Epoch 13/15\n",
      "    Train loss: 0.34309\n",
      "    Valid loss: 0.35645\n",
      "    Accuracy: 85.19%\n",
      "\n",
      "\n"
     ]
    },
    {
     "name": "stderr",
     "output_type": "stream",
     "text": [
      "Epoch 14 Iter 235: loss 1.32183. : 100%|██████████| 235/235 [00:22<00:00, 10.52it/s]\n"
     ]
    },
    {
     "name": "stdout",
     "output_type": "stream",
     "text": [
      "Epoch 14/15\n",
      "    Train loss: 0.33595\n",
      "    Valid loss: 0.36593\n",
      "    Accuracy: 84.48%\n",
      "\n",
      "\n"
     ]
    },
    {
     "name": "stderr",
     "output_type": "stream",
     "text": [
      "Epoch 15 Iter 235: loss 1.29097. : 100%|██████████| 235/235 [00:22<00:00, 10.44it/s]\n"
     ]
    },
    {
     "name": "stdout",
     "output_type": "stream",
     "text": [
      "Epoch 15/15\n",
      "    Train loss: 0.3373\n",
      "    Valid loss: 0.35476\n",
      "    Accuracy: 84.71%\n",
      "\n",
      "\n",
      "Training completed\n"
     ]
    },
    {
     "data": {
      "image/png": "[encoded data removed]",
      "text/plain": [
       "<Figure size 600x200 with 4 Axes>"
      ]
     },
     "metadata": {},
     "output_type": "display_data"
    },
    {
     "data": {
      "image/png": "[encoded data removed]",
      "text/plain": [
       "<Figure size 600x200 with 4 Axes>"
      ]
     },
     "metadata": {},
     "output_type": "display_data"
    },
    {
     "data": {
      "image/png": "[encoded data removed]",
      "text/plain": [
       "<Figure size 600x200 with 4 Axes>"
      ]
     },
     "metadata": {},
     "output_type": "display_data"
    },
    {
     "data": {
      "image/png": "[encoded data removed]",
      "text/plain": [
       "<Figure size 600x200 with 4 Axes>"
      ]
     },
     "metadata": {},
     "output_type": "display_data"
    }
   ],
   "source": [
    "\n",
    "class MotionDataset:\n",
    "    \n",
    "    \"\"\"\n",
    "    Dataset for motion classification\n",
    "    \"\"\"\n",
    "    \n",
    "    LABELS = {\n",
    "        0: \"down\",\n",
    "        1: \"up\",\n",
    "        2: \"right\",\n",
    "        3: \"left\"\n",
    "    }\n",
    "    \n",
    "    def __init__(self, train, transform, img_size=(64, 64), num_frames=5, resize=1, move=2):\n",
    "        \"\"\" \"\"\" \n",
    "        self.img_size = img_size\n",
    "        self.num_frames = num_frames\n",
    "        self.resize = resize\n",
    "        self.move = move\n",
    "        self.mnist_db = datasets.MNIST(root='./data', train=train, transform=transform, download=True)\n",
    "        return\n",
    "\n",
    "    def __len__(self):\n",
    "        \"\"\" \"\"\"\n",
    "        return len(self.mnist_db)\n",
    "    \n",
    "    def __getitem__(self, i):\n",
    "        \"\"\" Creating a random sequence of a moving digit\"\"\"\n",
    "        # sampling digit\n",
    "        digit = self.mnist_db[i][0]\n",
    "        digit = F.interpolate(digit.unsqueeze(0), scale_factor=1/self.resize)[0]\n",
    "        digitH, digitW = digit.shape[-2], digit.shape[-1]\n",
    "        \n",
    "        # creating canvas\n",
    "        canvasH, canvasW = self.img_size\n",
    "        canvas = torch.zeros(self.num_frames, 1, canvasH, canvasW)\n",
    "        start_pos_x = np.random.randint(3, canvasH - 3 - digitH)\n",
    "        start_pos_y = np.random.randint(3, canvasH - 3 - digitH)\n",
    "        start_pos = torch.tensor([start_pos_y, start_pos_x])\n",
    "        \n",
    "        # moving parameters\n",
    "        n = np.random.rand()\n",
    "        \n",
    "        if n < 0.25:\n",
    "            move = torch.tensor([self.move, 0])\n",
    "            label = 0\n",
    "        elif n < 0.5:\n",
    "            move = torch.tensor([-self.move, 0])\n",
    "            label = 1\n",
    "        elif n < 0.75:\n",
    "            move = torch.tensor([0, self.move])\n",
    "            label = 2\n",
    "        else:\n",
    "            move = torch.tensor([0, -self.move])\n",
    "            label = 3\n",
    "        \n",
    "        # updating positions and creating video\n",
    "        positions = []\n",
    "        for i in range(self.num_frames):\n",
    "            if i == 0:\n",
    "                cur_pos = start_pos\n",
    "            else:\n",
    "                cur_pos = positions[-1] + move\n",
    "                if cur_pos[0] < 0 or cur_pos[0] >= canvasH - digitH or \\\n",
    "                   cur_pos[1] < 0 or cur_pos[1] >= canvasW - digitW:  # avoid going out of bounds\n",
    "                    cur_pos = positions[-1]\n",
    "            positions.append(cur_pos)\n",
    "            canvas[i, :, cur_pos[0]:cur_pos[0]+digitH, cur_pos[1]:cur_pos[1] + digitW] = digit\n",
    "        \n",
    "        return canvas, label\n",
    "    \n",
    "def visualize_sequence(sequence,  suptitle=\"\", add_title=True, add_axis=False, n_cols=5, size=1.5,  vmax=1, vmin=0, **kwargs):\n",
    "    \"\"\" Visualizing a grid with several images/frames \"\"\"\n",
    "    n_frames = sequence.shape[0]\n",
    "    n_rows = int(np.ceil(n_frames / n_cols))\n",
    "\n",
    "    fig, ax = plt.subplots(n_rows, n_cols)\n",
    "    fig.set_size_inches(size * n_cols, size + 0.5)\n",
    "    fig.suptitle(suptitle)\n",
    " \n",
    "    ims = []\n",
    "    fs = []\n",
    "    for i in range(n_frames):\n",
    "        a = ax[i]\n",
    "        f = sequence[i, 0].cpu().detach()\n",
    "        a.imshow(f, vmin=vmin, vmax=vmax, **kwargs)\n",
    "        if add_title:\n",
    "            a.set_title(f\"Frame {i}\", fontsize=12)\n",
    "        if not add_axis:\n",
    "            a.set_yticks([])\n",
    "            a.set_xticks([])\n",
    "    plt.tight_layout()\n",
    "    return\n",
    "\n",
    "train_dataset = MotionDataset(\n",
    "        train=True,\n",
    "        transform=transforms.ToTensor(),\n",
    "        img_size=(32, 32),\n",
    "        num_frames=4,\n",
    "        resize=2\n",
    "    )\n",
    "\n",
    "test_dataset = MotionDataset(\n",
    "        train=False,\n",
    "        transform=transforms.ToTensor(),\n",
    "        img_size=(32, 32),\n",
    "        num_frames=4,\n",
    "        resize=2\n",
    "    )\n",
    "\n",
    "frames, label = train_dataset[0]\n",
    "print(frames.shape)\n",
    "\n",
    "\n",
    "class LSTMWithCustomCell(nn.Module):\n",
    "    \"\"\" \n",
    "    Sequential classifier. Embedded images are fed to a RNN\n",
    "    Same as above, but using LSTMCells instead of the LSTM object\n",
    "    \n",
    "    Args:\n",
    "    -----\n",
    "    emb_dim: integer \n",
    "        dimensionality of the vectors fed to the LSTM\n",
    "    hidden_dim: integer\n",
    "        dimensionality of the states in the cell\n",
    "    num_layers: integer\n",
    "        number of stacked LSTMS\n",
    "    mode: string\n",
    "        intialization of the states\n",
    "    \"\"\"\n",
    "    \n",
    "    def __init__(self, emb_dim, hidden_dim, num_layers=1, mode=\"zeros\"):\n",
    "        \"\"\" Module initializer \"\"\"\n",
    "        assert mode in [\"zeros\", \"random\"]\n",
    "        super().__init__()\n",
    "        self.hidden_dim =  hidden_dim\n",
    "        self.num_layers = num_layers\n",
    "        self.mode = mode\n",
    "\n",
    "        # for embedding rows into vector representations\n",
    "        self.encoder = nn.Sequential(\n",
    "                nn.Conv2d(1, 64, 3, 1, 1), nn.ReLU(), nn.MaxPool2d(2),\n",
    "                nn.Conv2d(64, 128, 3, 1, 1), nn.ReLU(), nn.MaxPool2d(2),\n",
    "                nn.Conv2d(128, emb_dim, 3, 1, 1),\n",
    "                nn.AdaptiveAvgPool2d((1, 1))\n",
    "            )\n",
    "        \n",
    "        # LSTM model       \n",
    "        lstms = []\n",
    "        for i in range(num_layers):\n",
    "            in_size = emb_dim if i == 0 else hidden_dim\n",
    "            #lstms.append( nn.LSTMCell(input_size=in_size, hidden_size=hidden_dim) )\n",
    "            lstms.append( ConvLSTMCell(input_size=in_size, hidden_size=hidden_dim) )\n",
    "            \n",
    "        self.lstm = nn.ModuleList(lstms)\n",
    "        \n",
    "        # FC-classifier\n",
    "        self.classifier = nn.Linear(in_features=hidden_dim, out_features=4)\n",
    "        \n",
    "        return\n",
    "    \n",
    "    \n",
    "    def forward(self, x):\n",
    "        \"\"\" Forward pass through model \"\"\"\n",
    "        \n",
    "        b_size, num_frames, n_channels, n_rows, n_cols = x.shape\n",
    "        h, c = self.init_state(b_size=b_size, device=x.device) \n",
    "        \n",
    "        # embedding rows\n",
    "        x = x.view(b_size * num_frames, n_channels, n_rows, n_cols)\n",
    "        embeddings = self.encoder(x)\n",
    "        embeddings = embeddings.reshape(b_size, num_frames, -1)\n",
    "        \n",
    "        # iterating over sequence length\n",
    "        lstm_out = []\n",
    "        for i in range(embeddings.shape[1]):  # iterate over time steps\n",
    "            lstm_input = embeddings[:, i, :]  # size= (batch_size, emb_dim) \n",
    "            # iterating over LSTM Cells\n",
    "            for j, lstm_cell in enumerate(self.lstm):\n",
    "                #try:\n",
    "                    if lstm_input.shape[0] != B_SIZE:\n",
    "                        continue\n",
    "                    #print(lstm_input.shape)\n",
    "                    h[j], c[j] = lstm_cell(lstm_input, (h[j], c[j]))\n",
    "                    lstm_input = h[j]\n",
    "                #except:\n",
    "                    #lstm_input=lstm_input;\n",
    "            lstm_out.append(lstm_input)\n",
    "        lstm_out = torch.stack(lstm_out, dim=1)\n",
    "            \n",
    "        # classifying\n",
    "        y = self.classifier(lstm_out[:, -1, :])  # feeding only output at last layer\n",
    "        \n",
    "        return y\n",
    "    \n",
    "        \n",
    "    def init_state(self, b_size, device):\n",
    "        \"\"\" Initializing hidden and cell state \"\"\"\n",
    "        if(self.mode == \"zeros\"):\n",
    "            h = [torch.zeros(b_size, self.hidden_dim).to(device) for _ in range(self.num_layers)]\n",
    "            c = [torch.zeros(b_size, self.hidden_dim).to(device) for _ in range(self.num_layers)]\n",
    "        elif(self.mode == \"random\"):\n",
    "            h = [torch.zeros(b_size, self.hidden_dim).to(device) for _ in range(self.num_layers)]\n",
    "            c = [torch.zeros(b_size, self.hidden_dim).to(device) for _ in range(self.num_layers)]\n",
    "        return h, c\n",
    "\n",
    "for i in range(4):\n",
    "    frames, label = train_dataset[i]\n",
    "    visualize_sequence(frames, n_cols=4, cmap=\"gray\", suptitle=f\"Class={label} ({train_dataset.LABELS[label]})\")\n",
    "\n",
    "# Fitting data loaders for iterating\n",
    "B_SIZE = 256\n",
    "\n",
    "train_loader = torch.utils.data.DataLoader(dataset=train_dataset, \n",
    "                                           batch_size=B_SIZE, \n",
    "                                           shuffle=True) \n",
    "test_loader = torch.utils.data.DataLoader(dataset=test_dataset, \n",
    "                                          batch_size=B_SIZE,\n",
    "                                          shuffle=False)\n",
    "def train_epoch(model, train_loader, optimizer, criterion, epoch, device):\n",
    "    \"\"\" Training a model for one epoch \"\"\"\n",
    "    \n",
    "    loss_list = []\n",
    "    progress_bar = tqdm(enumerate(train_loader), total=len(train_loader))\n",
    "    for i, (images, labels) in progress_bar:\n",
    "        images = images.to(device)\n",
    "        labels = labels.to(device)\n",
    "        # Clear gradients w.r.t. parameters\n",
    "        optimizer.zero_grad()\n",
    "         \n",
    "        # Forward pass to get output/logits\n",
    "        outputs = model(images)\n",
    "         \n",
    "        # Calculate Loss: softmax --> cross entropy loss\n",
    "        loss = criterion(outputs, labels)\n",
    "        loss_list.append(loss.item())\n",
    "         \n",
    "        # Getting gradients w.r.t. parameters\n",
    "        loss.backward()\n",
    "         \n",
    "        # Updating parameters\n",
    "        optimizer.step()\n",
    "        \n",
    "        progress_bar.set_description(f\"Epoch {epoch+1} Iter {i+1}: loss {loss.item():.5f}. \")\n",
    "        \n",
    "    mean_loss = np.mean(loss_list)\n",
    "    return mean_loss, loss_list\n",
    "\n",
    "\n",
    "@torch.no_grad()\n",
    "def eval_model(model, eval_loader, criterion, device):\n",
    "    \"\"\" Evaluating the model for either validation or test \"\"\"\n",
    "    correct = 0\n",
    "    total = 0\n",
    "    loss_list = []\n",
    "    \n",
    "    for images, labels in eval_loader:\n",
    "        images = images.to(device)\n",
    "        labels = labels.to(device)\n",
    "        \n",
    "        # Forward pass only to get logits/output\n",
    "        outputs = model(images)\n",
    "                 \n",
    "        loss = criterion(outputs, labels)\n",
    "        loss_list.append(loss.item())\n",
    "            \n",
    "        # Get predictions from the maximum value\n",
    "        preds = torch.argmax(outputs, dim=1)\n",
    "        correct += len( torch.where(preds==labels)[0] )\n",
    "        total += len(labels)\n",
    "                 \n",
    "    # Total correct predictions and loss\n",
    "    accuracy = correct / total * 100\n",
    "    loss = np.mean(loss_list)\n",
    "    \n",
    "    return accuracy, loss\n",
    "def train_model(model, optimizer, scheduler, criterion, train_loader, valid_loader, num_epochs):\n",
    "    \"\"\" Training a model for a given number of epochs\"\"\"\n",
    "    \n",
    "    train_loss = []\n",
    "    val_loss =  []\n",
    "    loss_iters = []\n",
    "    valid_acc = []\n",
    "    \n",
    "    for epoch in range(num_epochs):\n",
    "           \n",
    "        # validation epoch\n",
    "        model.eval()  # important for dropout and batch norms\n",
    "        accuracy, loss = eval_model(\n",
    "                    model=model, eval_loader=valid_loader,\n",
    "                    criterion=criterion, device=device\n",
    "            )\n",
    "        valid_acc.append(accuracy)\n",
    "        val_loss.append(loss)\n",
    "        \n",
    "        # training epoch\n",
    "        model.train()  # important for dropout and batch norms\n",
    "        mean_loss, cur_loss_iters = train_epoch(\n",
    "                model=model, train_loader=train_loader, optimizer=optimizer,\n",
    "                criterion=criterion, epoch=epoch, device=device\n",
    "            )\n",
    "        scheduler.step()\n",
    "        train_loss.append(mean_loss)\n",
    "        loss_iters = loss_iters + cur_loss_iters\n",
    "        \n",
    "        print(f\"Epoch {epoch+1}/{num_epochs}\")\n",
    "        print(f\"    Train loss: {round(mean_loss, 5)}\")\n",
    "        print(f\"    Valid loss: {round(loss, 5)}\")\n",
    "        print(f\"    Accuracy: {accuracy}%\")\n",
    "        print(\"\\n\")\n",
    "    \n",
    "    print(f\"Training completed\")\n",
    "    return train_loss, val_loss, loss_iters, valid_acc\n",
    "\n",
    "def smooth(f, K=5):\n",
    "    \"\"\" Smoothing a function using a low-pass filter (mean) of size K \"\"\"\n",
    "    kernel = np.ones(K) / K\n",
    "    f = np.concatenate([f[:int(K//2)], f, f[int(-K//2):]])  # to account for boundaries\n",
    "    smooth_f = np.convolve(f, kernel, mode=\"same\")\n",
    "    smooth_f = smooth_f[K//2: -K//2]  # removing boundary-fixes\n",
    "    return smooth_f\n",
    "\n",
    "def count_model_params(model):\n",
    "    \"\"\" Counting the number of learnable parameters in a nn.Module \"\"\"\n",
    "    num_params = sum(p.numel() for p in model.parameters() if p.requires_grad)\n",
    "    return num_params\n",
    "\n",
    "device = torch.device(\"cuda\" if torch.cuda.is_available() else \"cpu\")\n",
    "model = LSTMWithCustomCell(emb_dim=128, hidden_dim=128, num_layers=2, mode=\"zeros\")\n",
    "count_model_params(model)\n",
    "print(device, model.encoder)\n",
    "count_model_params(model.encoder)\n",
    "model = model.to(device)\n",
    "\n",
    "# classification loss function\n",
    "criterion = nn.CrossEntropyLoss()\n",
    "\n",
    "# Observe that all parameters are being optimized\n",
    "optimizer = torch.optim.Adam(model.parameters(), lr=3e-4)\n",
    "\n",
    "# Decay LR by a factor of 0.1 every 5 epochs\n",
    "scheduler = torch.optim.lr_scheduler.StepLR(optimizer, step_size=5, gamma=0.2)\n",
    "train_loss, val_loss, loss_iters, valid_acc = train_model(\n",
    "        model=model, optimizer=optimizer, scheduler=scheduler, criterion=criterion,\n",
    "        train_loader=train_loader, valid_loader=test_loader, num_epochs=15\n",
    "    )"
   ]
  }
 ],
 "metadata": {
  "kernelspec": {
   "display_name": "Python 3",
   "language": "python",
   "name": "python3"
  },
  "language_info": {
   "codemirror_mode": {
    "name": "ipython",
    "version": 3
   },
   "file_extension": ".py",
   "mimetype": "text/x-python",
   "name": "python",
   "nbconvert_exporter": "python",
   "pygments_lexer": "ipython3",
   "version": "3.10.12"
  }
 },
 "nbformat": 4,
 "nbformat_minor": 2
}
