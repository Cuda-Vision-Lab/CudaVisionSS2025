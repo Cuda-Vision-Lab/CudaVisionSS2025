{
 "cells": [
  {
   "cell_type": "markdown",
   "metadata": {},
   "source": [
    " - Task 1:\n",
    "    - Implement a fully convolutional DCGAN-like model (https://arxiv.org/abs/1511.06434)\n",
    "    - Train the model on the AFHQ (Animal Faces-HQ) dataset from Assignment 5 in order to generate new animal faces\n",
    "    - Requirements:\n",
    "      - Use Tensorboard, WandDB or some other experiment tracker\n",
    "      - Show the capabilities of your model to generate images\n",
    "      - Evaluate and track during training using one quantitative metric (e.g. FID)\n",
    "      - Compare your GAN with your best VAE from Assignment 4.\n",
    "          - Which model has best FID scores?\n",
    "          - Which model generates more realistic images?\n",
    "          - What are the strengths and weaknesses of each model?"
   ]
  }
 ],
 "metadata": {
  "language_info": {
   "name": "python"
  }
 },
 "nbformat": 4,
 "nbformat_minor": 2
}
