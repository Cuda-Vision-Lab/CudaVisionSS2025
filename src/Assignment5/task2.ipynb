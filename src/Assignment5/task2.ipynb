{
 "cells": [
  {
   "cell_type": "markdown",
   "metadata": {},
   "source": [
    "\n",
    "  - Task 2:\n",
    "      - Implement a **Conditional DCGAN** model (https://arxiv.org/abs/1411.1784)\n",
    "       - Train the model for conditional generation on the AFHQ dataset\n",
    "       - Requirements:\n",
    "         - Use Tensorboard, WandDB or some other experiment tracker\n",
    "         - Show the capabilities of the model to generate data based on given label\n",
    " "
   ]
  }
 ],
 "metadata": {
  "language_info": {
   "name": "python"
  }
 },
 "nbformat": 4,
 "nbformat_minor": 2
}
